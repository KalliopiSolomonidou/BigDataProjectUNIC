{
 "cells": [
  {
   "cell_type": "code",
   "execution_count": 1,
   "id": "99f30e44",
   "metadata": {},
   "outputs": [],
   "source": [
    "import pandas as pd\n",
    "import numpy as np\n",
    "import pickle\n",
    "import os\n",
    "import ast\n",
    "import requests\n",
    "import re\n",
    "import json\n",
    "import datetime\n",
    "from google.cloud import bigquery\n",
    "from google.oauth2 import service_account"
   ]
  },
  {
   "cell_type": "code",
   "execution_count": 2,
   "id": "e170c03d",
   "metadata": {},
   "outputs": [
    {
     "name": "stdout",
     "output_type": "stream",
     "text": [
      "[1 0 0 1 1 0 0 0 0 1 1 1 1 1 1 1 1 1 1 1]\n"
     ]
    }
   ],
   "source": [
    "# method to trigger the prediction model\n",
    "def predict_volcano_eruption(model, earthquake_data):\n",
    "    predictions = model.predict(earthquake_data)\n",
    "    return predictions\n",
    "\n",
    "# authenticate with bigQuery using credential Json\n",
    "credentials_path = 'big-data-final-project-407314-840759d2dedd.json'\n",
    "dataset_id = 'earthquakes'\n",
    "table_id = 'quakes'\n",
    "project_id = 'big-data-final-project-407314'\n",
    "\n",
    "# Initialize BigQuery client\n",
    "credentials = service_account.Credentials.from_service_account_file(credentials_path)\n",
    "client = bigquery.Client(credentials=credentials, project=project_id)\n",
    "table_ref = f\"{project_id}.{dataset_id}.{table_id}\"\n",
    "\n",
    "# the query to select the seismic activity of the previous day.\n",
    "query = \"\"\"\n",
    "    SELECT *\n",
    "    FROM `big-data-final-project-407314.earthquakes.quakes`\n",
    "    WHERE TIMESTAMP(t) >= TIMESTAMP_SUB(CURRENT_TIMESTAMP(), INTERVAL 1 DAY)\n",
    "      AND TIMESTAMP(t) < CURRENT_TIMESTAMP()\n",
    "\"\"\"\n",
    "\n",
    "# Execute the query and convert to a DataFrame\n",
    "earthquake_data = client.query(query).to_dataframe()\n",
    "\n",
    "# transform theresults from streaming data to conform with the data used with the data used durin model building\n",
    "earthquake_data.rename(columns={'lat': 'latitude'}, inplace=True)\n",
    "earthquake_data.rename(columns={'lon': 'longitude'}, inplace=True)\n",
    "earthquake_data.rename(columns={'dep': 'depth'}, inplace=True)\n",
    "earthquake_data.rename(columns={'s': 'mag'}, inplace=True)\n",
    "earthquake_data.drop('t', axis=1, inplace=True)\n",
    "earthquake_data.drop('a', axis=1, inplace=True)\n",
    "earthquake_data.drop('dD', axis=1, inplace=True)\n",
    "earthquake_data.drop('dL', axis=1, inplace=True)\n",
    "earthquake_data.drop('dR', axis=1, inplace=True)\n",
    "earthquake_data.drop('q', axis=1, inplace=True)\n",
    "\n",
    "# Reorder the columns\n",
    "new_order = [ 'latitude', 'longitude', 'depth', 'mag']\n",
    "earthquake_data = earthquake_data[new_order]\n",
    "\n",
    "# Load the pre-trained model\n",
    "model_file = r'best_gradient_boosting_model.pkl'\n",
    "with open(model_file, 'rb') as file:\n",
    "    model = pickle.load(file)\n",
    "\n",
    "# Predict volcano eruptions\n",
    "predictions = predict_volcano_eruption(model, earthquake_data)\n",
    "print(predictions)\n"
   ]
  },
  {
   "cell_type": "code",
   "execution_count": 3,
   "id": "0f8656c3",
   "metadata": {},
   "outputs": [
    {
     "name": "stdout",
     "output_type": "stream",
     "text": [
      "The likelihood of a volcano eruption in Iceland is 70.00%.\n"
     ]
    }
   ],
   "source": [
    "# interpreting predictions to Eruption Likely and Eruption Unlikely\n",
    "def interpret_predictions(predictions):\n",
    "    interpretation = []\n",
    "    for pred in predictions:\n",
    "        interpretation.append(\"Eruption Likely\" if pred == 1 else \"Eruption Unlikely\")\n",
    "    return interpretation\n",
    "\n",
    "# method to calculate the likelihood of an eruption to happend\n",
    "def calculate_eruption_likelihood(interpreted_predictions):    \n",
    "    eruption_likely_count = interpreted_predictions.count(\"Eruption Likely\")\n",
    "    total_predictions = len(interpreted_predictions)\n",
    "    if total_predictions == 0:\n",
    "        return 0  \n",
    "    return (eruption_likely_count / total_predictions) * 100\n",
    "\n",
    "\n",
    "# Convert numpy array to list if necessary\n",
    "model_predictions = predictions.tolist() if isinstance(predictions, np.ndarray) else predictions\n",
    "\n",
    "# Interpret the predictions\n",
    "interpreted_predictions = interpret_predictions(model_predictions)\n",
    "\n",
    "# Calculate the likelihood percentage\n",
    "eruption_likelihood_percentage = calculate_eruption_likelihood(interpreted_predictions)\n",
    "\n",
    "# Forming a human-readable message\n",
    "message = f\"The likelihood of a volcano eruption in Iceland is {eruption_likelihood_percentage:.2f}%.\"\n",
    "print(message)\n"
   ]
  },
  {
   "cell_type": "markdown",
   "id": "0c857f22",
   "metadata": {},
   "source": [
    "##### From my project proposal I used the data from only the Icelandic Meteorological Office,  the US Geological Survey (USGS) Earthquake Hazards Programand the  Smithsonian Institution's Global Volcanism Program. And instead of generic Google Storage I used BigQuery."
   ]
  },
  {
   "cell_type": "code",
   "execution_count": null,
   "id": "4ea2bc9c",
   "metadata": {},
   "outputs": [],
   "source": []
  }
 ],
 "metadata": {
  "kernelspec": {
   "display_name": "Python 3 (ipykernel)",
   "language": "python",
   "name": "python3"
  },
  "language_info": {
   "codemirror_mode": {
    "name": "ipython",
    "version": 3
   },
   "file_extension": ".py",
   "mimetype": "text/x-python",
   "name": "python",
   "nbconvert_exporter": "python",
   "pygments_lexer": "ipython3",
   "version": "3.11.5"
  }
 },
 "nbformat": 4,
 "nbformat_minor": 5
}
